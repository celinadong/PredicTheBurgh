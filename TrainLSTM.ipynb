{
  "nbformat": 4,
  "nbformat_minor": 0,
  "metadata": {
    "colab": {
      "name": "TrainLSTM.ipynb",
      "version": "0.3.2",
      "provenance": []
    },
    "kernelspec": {
      "name": "python3",
      "display_name": "Python 3"
    },
    "accelerator": "GPU"
  },
  "cells": [
    {
      "metadata": {
        "id": "9ozBeFAzBleR",
        "colab_type": "code",
        "colab": {}
      },
      "cell_type": "code",
      "source": [
        "#importing required libraries\n",
        "from sklearn.preprocessing import MinMaxScaler\n",
        "from keras.models import Sequential\n",
        "from keras.layers import Dense, Dropout, LSTM\n",
        "from sklearn.model_selection import train_test_split\n",
        "\n",
        "from keras.models import model_from_json\n",
        "\n",
        "import os\n",
        "import sys\n",
        "import sklearn\n",
        "import numpy as np\n",
        "import pandas as pd\n",
        "import matplotlib.pyplot as plt\n",
        "import seaborn as sns\n",
        "from sklearn.metrics import accuracy_score\n",
        "from sklearn.naive_bayes import GaussianNB\n",
        "from sklearn.metrics import confusion_matrix\n",
        "\n",
        "sys.path.append('..')"
      ],
      "execution_count": 0,
      "outputs": []
    },
    {
      "metadata": {
        "id": "Re_0QgwpBrq7",
        "colab_type": "code",
        "colab": {
          "base_uri": "https://localhost:8080/",
          "height": 159
        },
        "outputId": "51ae62f9-31c9-43b4-bbf4-3d61265528c9"
      },
      "cell_type": "code",
      "source": [
        "data  = pd.read_csv('daily_csv.csv')             # read CSV file\n",
        "euro_data = data.loc[data['Country'] == 'Euro']\n",
        "\n",
        "for i, row in euro_data.iterrows():\n",
        "        value = euro_data.at[i,'Value']\n",
        "        value_string = str(value)\n",
        "        if(not value>0):\n",
        "            euro_data.at[i,'Value'] = euro_data.at[i-1,'Value']\n",
        "\n",
        "\n",
        "# setting index as date\n",
        "df = euro_data\n",
        "df['Date'] = pd.to_datetime(df.Date,format='%Y-%m-%d')\n",
        "df.index = df['Date']"
      ],
      "execution_count": 140,
      "outputs": [
        {
          "output_type": "stream",
          "text": [
            "/usr/local/lib/python3.6/dist-packages/ipykernel_launcher.py:13: SettingWithCopyWarning: \n",
            "A value is trying to be set on a copy of a slice from a DataFrame.\n",
            "Try using .loc[row_indexer,col_indexer] = value instead\n",
            "\n",
            "See the caveats in the documentation: http://pandas.pydata.org/pandas-docs/stable/indexing.html#indexing-view-versus-copy\n",
            "  del sys.path[0]\n"
          ],
          "name": "stderr"
        },
        {
          "output_type": "execute_result",
          "data": {
            "text/plain": [
              "\"\\n# plot\\nplt.figure(figsize=(16,8))\\nplt.plot(df['Value'], label='Price history')\\n\""
            ]
          },
          "metadata": {
            "tags": []
          },
          "execution_count": 140
        }
      ]
    },
    {
      "metadata": {
        "id": "7Bf1gJOBCQPL",
        "colab_type": "code",
        "colab": {
          "base_uri": "https://localhost:8080/",
          "height": 211
        },
        "outputId": "98a03277-2743-4bb5-cfd9-4a93964e23d2"
      },
      "cell_type": "code",
      "source": [
        "# \n",
        "euro_data.index = euro_data.Date\n",
        "euro_data.drop('Date', axis=1, inplace=True)\n",
        "euro_data.drop('Country', axis=1, inplace=True)"
      ],
      "execution_count": 141,
      "outputs": [
        {
          "output_type": "stream",
          "text": [
            "/usr/local/lib/python3.6/dist-packages/ipykernel_launcher.py:2: SettingWithCopyWarning: \n",
            "A value is trying to be set on a copy of a slice from a DataFrame\n",
            "\n",
            "See the caveats in the documentation: http://pandas.pydata.org/pandas-docs/stable/indexing.html#indexing-view-versus-copy\n",
            "  \n",
            "/usr/local/lib/python3.6/dist-packages/ipykernel_launcher.py:3: SettingWithCopyWarning: \n",
            "A value is trying to be set on a copy of a slice from a DataFrame\n",
            "\n",
            "See the caveats in the documentation: http://pandas.pydata.org/pandas-docs/stable/indexing.html#indexing-view-versus-copy\n",
            "  This is separate from the ipykernel package so we can avoid doing imports until\n"
          ],
          "name": "stderr"
        }
      ]
    },
    {
      "metadata": {
        "id": "pfXJJTwfCTUD",
        "colab_type": "code",
        "colab": {}
      },
      "cell_type": "code",
      "source": [
        "train, valid = train_test_split(euro_data, test_size=0.1, shuffle=False)"
      ],
      "execution_count": 0,
      "outputs": []
    },
    {
      "metadata": {
        "id": "Wx9qCYMqhhQr",
        "colab_type": "code",
        "colab": {}
      },
      "cell_type": "code",
      "source": [
        "number_of_predicted_days = 30"
      ],
      "execution_count": 0,
      "outputs": []
    },
    {
      "metadata": {
        "id": "jNZur1OMCaqX",
        "colab_type": "code",
        "colab": {}
      },
      "cell_type": "code",
      "source": [
        "#converting dataset into x_train and y_train\n",
        "scaler = MinMaxScaler(feature_range=(0, 1))\n",
        "scaled_data = scaler.fit_transform(train.values)"
      ],
      "execution_count": 0,
      "outputs": []
    },
    {
      "metadata": {
        "id": "9ZM0ihQTCcRp",
        "colab_type": "code",
        "colab": {}
      },
      "cell_type": "code",
      "source": [
        "x_train, y_train = [], []\n",
        "for i in range(60,len(train)):\n",
        "    x_train.append(scaled_data[i-60:i,0])\n",
        "    y_train.append(scaled_data[i,0])\n",
        "x_train, y_train = np.array(x_train), np.array(y_train)"
      ],
      "execution_count": 0,
      "outputs": []
    },
    {
      "metadata": {
        "id": "qB_h3HmtCeHt",
        "colab_type": "code",
        "colab": {
          "base_uri": "https://localhost:8080/",
          "height": 69
        },
        "outputId": "97d7fa97-8765-4c4c-d2d3-4e1b86d8c0e5"
      },
      "cell_type": "code",
      "source": [
        "\n",
        "x_train = np.reshape(x_train, (x_train.shape[0],x_train.shape[1],1))\n",
        "\n",
        "# create and fit the LSTM network\n",
        "model = Sequential()\n",
        "model.add(LSTM(units=50, return_sequences=True, input_shape=(x_train.shape[1],1)))\n",
        "model.add(LSTM(units=50))\n",
        "model.add(Dense(1))\n",
        "\n",
        "model.compile(loss='mean_squared_error', optimizer='adam')\n",
        "model.fit(x_train, y_train, epochs=1, batch_size=1, verbose=2)"
      ],
      "execution_count": 26,
      "outputs": [
        {
          "output_type": "stream",
          "text": [
            "Epoch 1/1\n",
            " - 1012s - loss: 7.0037e-04\n"
          ],
          "name": "stdout"
        },
        {
          "output_type": "execute_result",
          "data": {
            "text/plain": [
              "<keras.callbacks.History at 0x7f63984320f0>"
            ]
          },
          "metadata": {
            "tags": []
          },
          "execution_count": 26
        }
      ]
    },
    {
      "metadata": {
        "id": "sGJngeoiDgvE",
        "colab_type": "code",
        "colab": {}
      },
      "cell_type": "code",
      "source": [
        "#predicting testing data values, using past 60 from the train data\n",
        "inputs = euro_data[len(euro_data) - 14 - 60:].values\n",
        "inputs = inputs.reshape(-1,1)\n",
        "inputs  = scaler.transform(inputs)\n",
        "\n",
        "predicted_price_list = []\n",
        "X_test = []\n",
        "for i in range(60,inputs.shape[0]):\n",
        "    X_test.append(inputs[i-60:i,0])\n",
        "    \n",
        "\n",
        "X_test = np.array(X_test)\n",
        "\n",
        "X_test = np.reshape(X_test, (X_test.shape[0],X_test.shape[1],1))\n",
        "closing_price = model.predict(X_test)\n",
        "closing_price = scaler.inverse_transform(closing_price)"
      ],
      "execution_count": 0,
      "outputs": []
    },
    {
      "metadata": {
        "id": "HIfb6z3vQmNZ",
        "colab_type": "code",
        "colab": {}
      },
      "cell_type": "code",
      "source": [
        "input_data = scaled_data.flatten().tolist()[-60:]\n",
        "input_data_as_np = np.asarray(input_data).reshape((1, len(input_data), 1))\n",
        "\n",
        "predictions = []\n",
        "for i in range(number_of_predicted_days):\n",
        "  prediction = model.predict(input_data_as_np)\n",
        "  predictions.append(prediction[0, 0])\n",
        "  \n",
        "  updated_input = input_data_as_np.flatten().tolist()\n",
        "  updated_input.append(prediction[0, 0])\n",
        "  updated_input.pop(0)\n",
        "  \n",
        "  input_data_as_np = np.asarray(updated_input).reshape((1, len(updated_input), 1))"
      ],
      "execution_count": 0,
      "outputs": []
    },
    {
      "metadata": {
        "id": "4KASMkDzdX90",
        "colab_type": "code",
        "colab": {}
      },
      "cell_type": "code",
      "source": [
        "predictionsnp = scaler.inverse_transform(np.asarray(predictions).reshape((len(predictions), 1)))\n",
        "a = predictionsnp.flatten().tolist()"
      ],
      "execution_count": 0,
      "outputs": []
    },
    {
      "metadata": {
        "id": "IK5wGKGwepcw",
        "colab_type": "code",
        "colab": {
          "base_uri": "https://localhost:8080/",
          "height": 537
        },
        "outputId": "090fdfa9-f9fd-4edf-a410-19caf2d7634a"
      },
      "cell_type": "code",
      "source": [
        "validation = valid['Value'].tolist()[:number_of_predicted_days]"
      ],
      "execution_count": 179,
      "outputs": [
        {
          "output_type": "execute_result",
          "data": {
            "text/plain": [
              "[0.9228,\n",
              " 0.9206,\n",
              " 0.9206,\n",
              " 0.9121,\n",
              " 0.9121,\n",
              " 0.9169,\n",
              " 0.9168,\n",
              " 0.9231,\n",
              " 0.9247,\n",
              " 0.9232,\n",
              " 0.922,\n",
              " 0.9202,\n",
              " 0.9131,\n",
              " 0.9232,\n",
              " 0.9184,\n",
              " 0.9168,\n",
              " 0.9049,\n",
              " 0.8929,\n",
              " 0.8984,\n",
              " 0.8953,\n",
              " 0.885,\n",
              " 0.8911,\n",
              " 0.8801,\n",
              " 0.8901,\n",
              " 0.8901,\n",
              " 0.8977,\n",
              " 0.8977,\n",
              " 0.9016,\n",
              " 0.8987,\n",
              " 0.9076]"
            ]
          },
          "metadata": {
            "tags": []
          },
          "execution_count": 179
        }
      ]
    },
    {
      "metadata": {
        "id": "ZXbDu7_PifOC",
        "colab_type": "code",
        "colab": {}
      },
      "cell_type": "code",
      "source": [
        "# create new training and testing DataFrames for plotting\n",
        "\n",
        "# validation\n",
        "validationnp = np.asarray(validation)\n",
        "validation_df = pd.DataFrame(validationnp)\n",
        "validation_df.index=valid.index[:number_of_predicted_days]\n",
        "validation_df.columns = ['Value']\n",
        "\n",
        "# training\n",
        "training = np.asarray(train[-60:])\n",
        "training_df = pd.DataFrame(training)\n",
        "training_df.columns = ['Value']\n",
        "training_df.index=train.index[-60:]\n"
      ],
      "execution_count": 0,
      "outputs": []
    },
    {
      "metadata": {
        "id": "pVukKiZfj1gt",
        "colab_type": "code",
        "colab": {
          "base_uri": "https://localhost:8080/",
          "height": 368
        },
        "outputId": "65f4fe3a-8f3f-4ffb-d278-cdc5a2a4349a"
      },
      "cell_type": "code",
      "source": [
        "plt.plot(training_df['Value'])\n",
        "plt.plot(validation_df['Value'])\n",
        "validation_df['Predictions'] = a\n",
        "plt.plot(validation_df['Predictions'])"
      ],
      "execution_count": 181,
      "outputs": [
        {
          "output_type": "execute_result",
          "data": {
            "text/plain": [
              "[<matplotlib.lines.Line2D at 0x7f639618fb70>]"
            ]
          },
          "metadata": {
            "tags": []
          },
          "execution_count": 181
        },
        {
          "output_type": "display_data",
          "data": {
            "image/png": "[encoded data removed]",
            "text/plain": [
              "<Figure size 576x396 with 1 Axes>"
            ]
          },
          "metadata": {
            "tags": []
          }
        }
      ]
    },
    {
      "metadata": {
        "id": "VI5gvhJ1n-YY",
        "colab_type": "code",
        "colab": {
          "base_uri": "https://localhost:8080/",
          "height": 35
        },
        "outputId": "e3befaa4-5b31-421a-c423-43456c64c0a2"
      },
      "cell_type": "code",
      "source": [
        "# serialize model to JSON\n",
        "model_json = model.to_json()\n",
        "with open(\"model.json\", \"w\") as json_file:\n",
        "    json_file.write(model_json)\n",
        "# serialize weights to HDF5\n",
        "model.save_weights(\"model.h5\")\n",
        "print(\"Saved model to disk\")"
      ],
      "execution_count": 175,
      "outputs": [
        {
          "output_type": "stream",
          "text": [
            "Saved model to disk\n"
          ],
          "name": "stdout"
        }
      ]
    },
    {
      "metadata": {
        "id": "9-Hd_ykypl0p",
        "colab_type": "code",
        "colab": {}
      },
      "cell_type": "code",
      "source": [
        "'''\n",
        "#importing required libraries\n",
        "from sklearn.preprocessing import MinMaxScaler\n",
        "from keras.models import Sequential\n",
        "from keras.layers import Dense, Dropout, LSTM\n",
        "from sklearn.model_selection import train_test_split\n",
        "\n",
        "from keras.models import model_from_json\n",
        "\n",
        "import os\n",
        "import sys\n",
        "import sklearn\n",
        "import numpy as np\n",
        "import pandas as pd\n",
        "import matplotlib.pyplot as plt\n",
        "import seaborn as sns\n",
        "from sklearn.metrics import accuracy_score\n",
        "from sklearn.naive_bayes import GaussianNB\n",
        "from sklearn.metrics import confusion_matrix\n",
        "\n",
        "sys.path.append('..')\n",
        "'''\n",
        "\n",
        "def predict_rate(rate_for_past_sixty_days, number_of_predicted_days = 14):\n",
        "  # load trained LSTM\n",
        "  json_file = open('model.json', 'r')\n",
        "  loaded_model_json = json_file.read()\n",
        "  json_file.close()\n",
        "  model = model_from_json(loaded_model_json)\n",
        "  \n",
        "  # load weights into new model\n",
        "  model.load_weights(\"model.h5\")\n",
        "  print(\"Loaded model from disk\")\n",
        "  \n",
        "  # scale data\n",
        "  scaler = MinMaxScaler(feature_range=(0, 1))\n",
        "  scaled_data = scaler.fit_transform(rate_for_past_sixty_days.values)\n",
        "  \n",
        "  # make prediction\n",
        "  input_data = scaled_data.flatten().tolist()[-60:]\n",
        "  input_data_as_np = np.asarray(input_data).reshape((1, len(input_data), 1))\n",
        "\n",
        "  predictions = []\n",
        "  for i in range(number_of_predicted_days):\n",
        "    prediction = model.predict(input_data_as_np)\n",
        "    predictions.append(prediction[0, 0])\n",
        "\n",
        "    updated_input = input_data_as_np.flatten().tolist()\n",
        "    updated_input.append(prediction[0, 0])\n",
        "    updated_input.pop(0)\n",
        "\n",
        "    input_data_as_np = np.asarray(updated_input).reshape((1, len(updated_input), 1))\n",
        "    \n",
        "    predictionsnp = scaler.inverse_transform(np.asarray(predictions).reshape((len(predictions), 1)))\n",
        "    a = predictionsnp.flatten().tolist()\n",
        "    \n",
        "  print('List of predictions:')\n",
        "  print(a)\n",
        "  "
      ],
      "execution_count": 0,
      "outputs": []
    },
    {
      "metadata": {
        "id": "Us0zDwoXrgy-",
        "colab_type": "code",
        "colab": {
          "base_uri": "https://localhost:8080/",
          "height": 89
        },
        "outputId": "41da250e-b873-40f7-91b9-252dac640d01"
      },
      "cell_type": "code",
      "source": [
        "predict_rate(rate_for_past_sixty_days=train)"
      ],
      "execution_count": 186,
      "outputs": [
        {
          "output_type": "stream",
          "text": [
            "Loaded model from disk\n",
            "Predictions\n",
            "[0.9189808368682861, 0.9174799919128418, 0.9164280891418457, 0.9156232476234436, 0.9149823188781738, 0.9144595861434937, 0.9140213131904602, 0.9136396646499634, 0.9132914543151855, 0.9129580855369568, 0.9126260876655579, 0.9122864603996277, 0.9119341373443604, 0.9115673303604126]\n"
          ],
          "name": "stdout"
        }
      ]
    }
  ]
}